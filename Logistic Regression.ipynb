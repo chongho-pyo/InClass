{
 "cells": [
  {
   "cell_type": "code",
   "execution_count": 1,
   "id": "72b67693",
   "metadata": {
    "ExecuteTime": {
     "end_time": "2023-03-08T04:35:22.353407Z",
     "start_time": "2023-03-08T04:35:21.645532Z"
    }
   },
   "outputs": [],
   "source": [
    "import pandas as pd\n",
    "\n",
    "df = pd.read_csv('coupon.csv')\n",
    "\n",
    "#coupon_discount to positive value\n",
    "df['coupon_discount']=abs(df['coupon_discount'])\n",
    "\n",
    "#dummify textual variables and drop index variables and target\n",
    "dummydata = pd.get_dummies(df.drop(['redemption_status', 'coupon_id','customer_id','id','campaign_id','start_date','end_date'], axis=1), drop_first=True)"
   ]
  },
  {
   "cell_type": "code",
   "execution_count": 2,
   "id": "1ece1fc8",
   "metadata": {
    "ExecuteTime": {
     "end_time": "2023-03-08T04:35:25.938367Z",
     "start_time": "2023-03-08T04:35:22.354939Z"
    }
   },
   "outputs": [
    {
     "name": "stderr",
     "output_type": "stream",
     "text": [
      "/Users/chpyo/opt/anaconda3/lib/python3.8/site-packages/scipy/__init__.py:146: UserWarning: A NumPy version >=1.16.5 and <1.23.0 is required for this version of SciPy (detected version 1.24.2\n",
      "  warnings.warn(f\"A NumPy version >={np_minversion} and <{np_maxversion}\"\n"
     ]
    },
    {
     "name": "stdout",
     "output_type": "stream",
     "text": [
      "        pred:0  pred:1\n",
      "true:0   23302       2\n",
      "true:1     206       1\n"
     ]
    },
    {
     "name": "stderr",
     "output_type": "stream",
     "text": [
      "/Users/chpyo/opt/anaconda3/lib/python3.8/site-packages/sklearn/linear_model/_logistic.py:814: ConvergenceWarning: lbfgs failed to converge (status=1):\n",
      "STOP: TOTAL NO. of ITERATIONS REACHED LIMIT.\n",
      "\n",
      "Increase the number of iterations (max_iter) or scale the data as shown in:\n",
      "    https://scikit-learn.org/stable/modules/preprocessing.html\n",
      "Please also refer to the documentation for alternative solver options:\n",
      "    https://scikit-learn.org/stable/modules/linear_model.html#logistic-regression\n",
      "  n_iter_i = _check_optimize_result(\n"
     ]
    },
    {
     "data": {
      "text/plain": [
       "0.009523809523809523"
      ]
     },
     "execution_count": 2,
     "metadata": {},
     "output_type": "execute_result"
    }
   ],
   "source": [
    "#standardize variables\n",
    "from sklearn.preprocessing import RobustScaler\n",
    "rc=RobustScaler()\n",
    "scaled=rc.fit_transform(dummydata)\n",
    "scaled=pd.DataFrame(scaled, columns=dummydata.columns)\n",
    "\n",
    "#construct variables\n",
    "X=scaled\n",
    "y=df['redemption_status']\n",
    "\n",
    "#split dataset\n",
    "from sklearn.model_selection import train_test_split\n",
    "X_train, X_test, y_train, y_test = train_test_split(X, y, test_size = 0.3, random_state = 0)\n",
    "\n",
    "#logistic regression\n",
    "from sklearn.linear_model import LogisticRegression\n",
    "lr = LogisticRegression() \n",
    "model = lr.fit(X_train,y_train) \n",
    "\n",
    "y_test_pred = model.predict(X_test)\n",
    "\n",
    "# Calculate the classification scores\n",
    "from sklearn import metrics\n",
    "metrics.accuracy_score(y_test, y_test_pred)\n",
    "\n",
    "print(pd.DataFrame(metrics.confusion_matrix(y_test, y_test_pred, labels=[0,1]), index=['true:0', 'true:1'], columns=['pred:0', 'pred:1']))\n",
    "\n",
    "metrics.precision_score(y_test, y_test_pred)\n",
    "metrics.recall_score(y_test, y_test_pred)\n",
    "metrics.f1_score(y_test, y_test_pred)"
   ]
  },
  {
   "cell_type": "code",
   "execution_count": null,
   "id": "ef76993f",
   "metadata": {},
   "outputs": [],
   "source": []
  }
 ],
 "metadata": {
  "kernelspec": {
   "display_name": "Python 3 (ipykernel)",
   "language": "python",
   "name": "python3"
  },
  "language_info": {
   "codemirror_mode": {
    "name": "ipython",
    "version": 3
   },
   "file_extension": ".py",
   "mimetype": "text/x-python",
   "name": "python",
   "nbconvert_exporter": "python",
   "pygments_lexer": "ipython3",
   "version": "3.8.13"
  },
  "toc": {
   "base_numbering": 1,
   "nav_menu": {},
   "number_sections": true,
   "sideBar": true,
   "skip_h1_title": false,
   "title_cell": "Table of Contents",
   "title_sidebar": "Contents",
   "toc_cell": false,
   "toc_position": {},
   "toc_section_display": true,
   "toc_window_display": false
  }
 },
 "nbformat": 4,
 "nbformat_minor": 5
}
