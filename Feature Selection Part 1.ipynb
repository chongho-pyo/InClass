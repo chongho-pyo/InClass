{
 "cells": [
  {
   "cell_type": "code",
   "execution_count": 1,
   "id": "622a18cd",
   "metadata": {
    "ExecuteTime": {
     "end_time": "2023-03-08T04:35:37.355312Z",
     "start_time": "2023-03-08T04:35:36.820210Z"
    }
   },
   "outputs": [],
   "source": [
    "### Week 7-1: Feature Selection : Coding exercise\n",
    "\n",
    "## Exercise 1\n",
    "\n",
    "import pandas\n",
    "\n",
    "df = pandas.read_csv(\"Cereals.csv\")\n",
    "df = df.dropna()\n",
    "\n",
    "X = df.iloc[:,3:15]\n",
    "y = df['Rating']"
   ]
  },
  {
   "cell_type": "code",
   "execution_count": 2,
   "id": "6069b716",
   "metadata": {
    "ExecuteTime": {
     "end_time": "2023-03-08T04:35:41.280356Z",
     "start_time": "2023-03-08T04:35:37.365371Z"
    }
   },
   "outputs": [
    {
     "name": "stderr",
     "output_type": "stream",
     "text": [
      "/Users/chpyo/opt/anaconda3/lib/python3.8/site-packages/scipy/__init__.py:146: UserWarning: A NumPy version >=1.16.5 and <1.23.0 is required for this version of SciPy (detected version 1.24.2\n",
      "  warnings.warn(f\"A NumPy version >={np_minversion} and <{np_maxversion}\"\n"
     ]
    },
    {
     "data": {
      "text/html": [
       "<div>\n",
       "<style scoped>\n",
       "    .dataframe tbody tr th:only-of-type {\n",
       "        vertical-align: middle;\n",
       "    }\n",
       "\n",
       "    .dataframe tbody tr th {\n",
       "        vertical-align: top;\n",
       "    }\n",
       "\n",
       "    .dataframe thead th {\n",
       "        text-align: right;\n",
       "    }\n",
       "</style>\n",
       "<table border=\"1\" class=\"dataframe\">\n",
       "  <thead>\n",
       "    <tr style=\"text-align: right;\">\n",
       "      <th></th>\n",
       "      <th>predictor</th>\n",
       "      <th>ranking</th>\n",
       "    </tr>\n",
       "  </thead>\n",
       "  <tbody>\n",
       "    <tr>\n",
       "      <th>0</th>\n",
       "      <td>Calories</td>\n",
       "      <td>1</td>\n",
       "    </tr>\n",
       "    <tr>\n",
       "      <th>1</th>\n",
       "      <td>Protein</td>\n",
       "      <td>1</td>\n",
       "    </tr>\n",
       "    <tr>\n",
       "      <th>2</th>\n",
       "      <td>Fat</td>\n",
       "      <td>1</td>\n",
       "    </tr>\n",
       "    <tr>\n",
       "      <th>3</th>\n",
       "      <td>Sodium</td>\n",
       "      <td>3</td>\n",
       "    </tr>\n",
       "    <tr>\n",
       "      <th>4</th>\n",
       "      <td>Fiber</td>\n",
       "      <td>1</td>\n",
       "    </tr>\n",
       "    <tr>\n",
       "      <th>5</th>\n",
       "      <td>Carbo</td>\n",
       "      <td>2</td>\n",
       "    </tr>\n",
       "    <tr>\n",
       "      <th>6</th>\n",
       "      <td>Sugars</td>\n",
       "      <td>1</td>\n",
       "    </tr>\n",
       "    <tr>\n",
       "      <th>7</th>\n",
       "      <td>Potass</td>\n",
       "      <td>5</td>\n",
       "    </tr>\n",
       "    <tr>\n",
       "      <th>8</th>\n",
       "      <td>Vitamins</td>\n",
       "      <td>4</td>\n",
       "    </tr>\n",
       "    <tr>\n",
       "      <th>9</th>\n",
       "      <td>Shelf</td>\n",
       "      <td>8</td>\n",
       "    </tr>\n",
       "    <tr>\n",
       "      <th>10</th>\n",
       "      <td>Weight</td>\n",
       "      <td>6</td>\n",
       "    </tr>\n",
       "    <tr>\n",
       "      <th>11</th>\n",
       "      <td>Cups</td>\n",
       "      <td>7</td>\n",
       "    </tr>\n",
       "  </tbody>\n",
       "</table>\n",
       "</div>"
      ],
      "text/plain": [
       "   predictor  ranking\n",
       "0   Calories        1\n",
       "1    Protein        1\n",
       "2        Fat        1\n",
       "3     Sodium        3\n",
       "4      Fiber        1\n",
       "5      Carbo        2\n",
       "6     Sugars        1\n",
       "7     Potass        5\n",
       "8   Vitamins        4\n",
       "9      Shelf        8\n",
       "10    Weight        6\n",
       "11      Cups        7"
      ]
     },
     "execution_count": 2,
     "metadata": {},
     "output_type": "execute_result"
    }
   ],
   "source": [
    "### RFE\n",
    "\n",
    "from sklearn.feature_selection import RFE\n",
    "from sklearn.linear_model import LinearRegression\n",
    "\n",
    "lm = LinearRegression()\n",
    "rfe = RFE(lm, n_features_to_select=5)\n",
    "model = rfe.fit(X, y)\n",
    "\n",
    "pandas.DataFrame(list(zip(X.columns,model.ranking_)), columns = ['predictor','ranking'])"
   ]
  },
  {
   "cell_type": "code",
   "execution_count": 3,
   "id": "8f6814a4",
   "metadata": {
    "ExecuteTime": {
     "end_time": "2023-03-08T04:35:41.321028Z",
     "start_time": "2023-03-08T04:35:41.286997Z"
    }
   },
   "outputs": [
    {
     "data": {
      "text/html": [
       "<div>\n",
       "<style scoped>\n",
       "    .dataframe tbody tr th:only-of-type {\n",
       "        vertical-align: middle;\n",
       "    }\n",
       "\n",
       "    .dataframe tbody tr th {\n",
       "        vertical-align: top;\n",
       "    }\n",
       "\n",
       "    .dataframe thead th {\n",
       "        text-align: right;\n",
       "    }\n",
       "</style>\n",
       "<table border=\"1\" class=\"dataframe\">\n",
       "  <thead>\n",
       "    <tr style=\"text-align: right;\">\n",
       "      <th></th>\n",
       "      <th>predictor</th>\n",
       "      <th>coefficient</th>\n",
       "    </tr>\n",
       "  </thead>\n",
       "  <tbody>\n",
       "    <tr>\n",
       "      <th>0</th>\n",
       "      <td>Calories</td>\n",
       "      <td>-1.540190</td>\n",
       "    </tr>\n",
       "    <tr>\n",
       "      <th>1</th>\n",
       "      <td>Protein</td>\n",
       "      <td>0.000000</td>\n",
       "    </tr>\n",
       "    <tr>\n",
       "      <th>2</th>\n",
       "      <td>Fat</td>\n",
       "      <td>-0.378236</td>\n",
       "    </tr>\n",
       "    <tr>\n",
       "      <th>3</th>\n",
       "      <td>Sodium</td>\n",
       "      <td>-1.564679</td>\n",
       "    </tr>\n",
       "    <tr>\n",
       "      <th>4</th>\n",
       "      <td>Fiber</td>\n",
       "      <td>4.134448</td>\n",
       "    </tr>\n",
       "    <tr>\n",
       "      <th>5</th>\n",
       "      <td>Carbo</td>\n",
       "      <td>0.000000</td>\n",
       "    </tr>\n",
       "    <tr>\n",
       "      <th>6</th>\n",
       "      <td>Sugars</td>\n",
       "      <td>-6.069692</td>\n",
       "    </tr>\n",
       "    <tr>\n",
       "      <th>7</th>\n",
       "      <td>Potass</td>\n",
       "      <td>0.000000</td>\n",
       "    </tr>\n",
       "    <tr>\n",
       "      <th>8</th>\n",
       "      <td>Vitamins</td>\n",
       "      <td>-0.000000</td>\n",
       "    </tr>\n",
       "    <tr>\n",
       "      <th>9</th>\n",
       "      <td>Shelf</td>\n",
       "      <td>-0.000000</td>\n",
       "    </tr>\n",
       "    <tr>\n",
       "      <th>10</th>\n",
       "      <td>Weight</td>\n",
       "      <td>-0.000000</td>\n",
       "    </tr>\n",
       "    <tr>\n",
       "      <th>11</th>\n",
       "      <td>Cups</td>\n",
       "      <td>-0.000000</td>\n",
       "    </tr>\n",
       "  </tbody>\n",
       "</table>\n",
       "</div>"
      ],
      "text/plain": [
       "   predictor  coefficient\n",
       "0   Calories    -1.540190\n",
       "1    Protein     0.000000\n",
       "2        Fat    -0.378236\n",
       "3     Sodium    -1.564679\n",
       "4      Fiber     4.134448\n",
       "5      Carbo     0.000000\n",
       "6     Sugars    -6.069692\n",
       "7     Potass     0.000000\n",
       "8   Vitamins    -0.000000\n",
       "9      Shelf    -0.000000\n",
       "10    Weight    -0.000000\n",
       "11      Cups    -0.000000"
      ]
     },
     "execution_count": 3,
     "metadata": {},
     "output_type": "execute_result"
    }
   ],
   "source": [
    "### LASSO\n",
    "\n",
    "from sklearn.preprocessing import StandardScaler\n",
    "scaler = StandardScaler()\n",
    "X_std = scaler.fit_transform(X)\n",
    "\n",
    "from sklearn.linear_model import Lasso\n",
    "ls = Lasso(alpha=2.8)\n",
    "model = ls.fit(X_std,y)\n",
    "model.coef_\n",
    "\n",
    "pandas.DataFrame(list(zip(X.columns,model.coef_)), columns = ['predictor','coefficient'])"
   ]
  },
  {
   "cell_type": "code",
   "execution_count": 4,
   "id": "d411e924",
   "metadata": {
    "ExecuteTime": {
     "end_time": "2023-03-08T04:35:41.662338Z",
     "start_time": "2023-03-08T04:35:41.330716Z"
    }
   },
   "outputs": [
    {
     "data": {
      "text/plain": [
       "array([5.44791656e-01, 3.90615608e-01, 3.74293072e-02, 2.51460346e-02,\n",
       "       1.64379967e-03, 2.25716572e-04, 5.64645520e-05, 4.66645478e-05,\n",
       "       3.12040371e-05, 1.05211773e-05, 2.71327754e-06])"
      ]
     },
     "execution_count": 4,
     "metadata": {},
     "output_type": "execute_result"
    }
   ],
   "source": [
    "### Random Forest\n",
    "\n",
    "from sklearn.ensemble import RandomForestRegressor\n",
    "randomforest = RandomForestRegressor(random_state=0)\n",
    "\n",
    "model = randomforest.fit(X, y)\n",
    "\n",
    "model.feature_importances_\n",
    "\n",
    "pandas.DataFrame(list(zip(X.columns,model.feature_importances_)), columns = ['predictor','feature importance'])\n",
    "\n",
    "## Exercise 2\n",
    "\n",
    "from sklearn.decomposition import PCA\n",
    "pca = PCA(n_components=11)\n",
    "pca.fit(X)\n",
    "\n",
    "pca.explained_variance_ratio_\n",
    "\n",
    "# Answer = 3 components which retain 97.28% of variance"
   ]
  },
  {
   "cell_type": "code",
   "execution_count": null,
   "id": "b7c1e11a",
   "metadata": {},
   "outputs": [],
   "source": []
  }
 ],
 "metadata": {
  "kernelspec": {
   "display_name": "Python 3 (ipykernel)",
   "language": "python",
   "name": "python3"
  },
  "language_info": {
   "codemirror_mode": {
    "name": "ipython",
    "version": 3
   },
   "file_extension": ".py",
   "mimetype": "text/x-python",
   "name": "python",
   "nbconvert_exporter": "python",
   "pygments_lexer": "ipython3",
   "version": "3.8.13"
  },
  "toc": {
   "base_numbering": 1,
   "nav_menu": {},
   "number_sections": true,
   "sideBar": true,
   "skip_h1_title": false,
   "title_cell": "Table of Contents",
   "title_sidebar": "Contents",
   "toc_cell": false,
   "toc_position": {},
   "toc_section_display": true,
   "toc_window_display": false
  }
 },
 "nbformat": 4,
 "nbformat_minor": 5
}
