{
 "cells": [
  {
   "cell_type": "code",
   "execution_count": 1,
   "id": "c8d7380c",
   "metadata": {
    "ExecuteTime": {
     "end_time": "2023-03-08T04:35:48.427066Z",
     "start_time": "2023-03-08T04:35:47.564031Z"
    }
   },
   "outputs": [],
   "source": [
    "### Week 9-2: Clustering Lab\n",
    "\n",
    "## Data source: https://data.fivethirtyeight.com/\n",
    "## Import data\n",
    "import pandas as pd\n",
    "\n",
    "df = pd.read_csv('uber.csv')\n",
    "df.head()\n",
    "\n",
    "X = df[['Lat','Lon']]"
   ]
  },
  {
   "cell_type": "code",
   "execution_count": 2,
   "id": "bb6151d0",
   "metadata": {
    "ExecuteTime": {
     "end_time": "2023-03-08T04:36:43.460547Z",
     "start_time": "2023-03-08T04:35:48.431451Z"
    }
   },
   "outputs": [
    {
     "name": "stderr",
     "output_type": "stream",
     "text": [
      "/Users/chpyo/opt/anaconda3/lib/python3.8/site-packages/scipy/__init__.py:146: UserWarning: A NumPy version >=1.16.5 and <1.23.0 is required for this version of SciPy (detected version 1.24.2\n",
      "  warnings.warn(f\"A NumPy version >={np_minversion} and <{np_maxversion}\"\n"
     ]
    },
    {
     "data": {
      "text/plain": [
       "[<matplotlib.lines.Line2D at 0x7fb7e9b560a0>]"
      ]
     },
     "execution_count": 2,
     "metadata": {},
     "output_type": "execute_result"
    },
    {
     "data": {
      "image/png": "[encoded data removed]",
      "text/plain": [
       "<Figure size 640x480 with 1 Axes>"
      ]
     },
     "metadata": {},
     "output_type": "display_data"
    }
   ],
   "source": [
    "## Finding optimal K using elbow method\n",
    "from sklearn.cluster import KMeans\n",
    "withinss = []\n",
    "for i in range (2,11):    \n",
    "    kmeans = KMeans(n_clusters=i)\n",
    "    model = kmeans.fit(X)\n",
    "    withinss.append(model.inertia_)\n",
    "\n",
    "from matplotlib import pyplot\n",
    "pyplot.plot([2,3,4,5,6,7,8,9,10],withinss)"
   ]
  },
  {
   "cell_type": "code",
   "execution_count": null,
   "id": "696da0d4",
   "metadata": {
    "ExecuteTime": {
     "start_time": "2023-03-08T04:35:47.554Z"
    }
   },
   "outputs": [],
   "source": [
    "## Finding optimal K using silhouette score\n",
    "# But is this going to be computationally efficient?\n",
    "from sklearn.metrics import silhouette_score\n",
    "for i in range (2,11):    \n",
    "    kmeans = KMeans(n_clusters=i)\n",
    "    model = kmeans.fit(X)\n",
    "    labels = model.labels_\n",
    "    print(i,':',silhouette_score(X,labels))"
   ]
  },
  {
   "cell_type": "code",
   "execution_count": null,
   "id": "a94652da",
   "metadata": {
    "ExecuteTime": {
     "start_time": "2023-03-08T04:35:47.555Z"
    }
   },
   "outputs": [],
   "source": [
    "## Finding optimal K using pseudo F-statistics\n",
    "from sklearn.metrics import calinski_harabasz_score\n",
    "from scipy.stats import f\n",
    "for i in range (2,11):    \n",
    "    df1=i-1\n",
    "    df2=df.shape[0]-i\n",
    "    kmeans = KMeans(n_clusters=i)\n",
    "    model = kmeans.fit(X)\n",
    "    labels = model.labels_\n",
    "    score = calinski_harabasz_score(X, labels)\n",
    "    print(i,':',1-f.cdf(score, df1, df2))"
   ]
  },
  {
   "cell_type": "code",
   "execution_count": null,
   "id": "3f7e9e9d",
   "metadata": {
    "ExecuteTime": {
     "start_time": "2023-03-08T04:35:47.555Z"
    }
   },
   "outputs": [],
   "source": [
    "## Run K-Means with k=6\n",
    "kmeans = KMeans(n_clusters=6)\n",
    "model = kmeans.fit(X)\n",
    "model.cluster_centers_\n",
    "\n",
    "clusters = pd.DataFrame(model.cluster_centers_, columns=['Latitude', 'Longitude'])"
   ]
  },
  {
   "cell_type": "code",
   "execution_count": null,
   "id": "e6890bf5",
   "metadata": {
    "ExecuteTime": {
     "start_time": "2023-03-08T04:35:47.555Z"
    }
   },
   "outputs": [],
   "source": [
    "## Plot the cluster centers on the map using Folium library\n",
    "# pip install folium \n",
    "centroid = clusters.values.tolist()\n",
    "\n",
    "import folium\n",
    "import webbrowser\n",
    "map = folium.Map(location=[40.79658011772687, -73.87341741832425], zoom_start = 25)\n",
    "for point in range(0, len(centroid)):\n",
    "    folium.Marker(centroid[point], popup = point).add_to(map)\n",
    "map.save(\"map.html\")\n",
    "webbrowser.open(\"map.html\")"
   ]
  },
  {
   "cell_type": "code",
   "execution_count": null,
   "id": "fb6b7df7",
   "metadata": {
    "ExecuteTime": {
     "start_time": "2023-03-08T04:35:47.556Z"
    }
   },
   "outputs": [],
   "source": [
    "## Some additional follow-ups\n",
    "# Check the demand for each cluster\n",
    "labels = model.labels_\n",
    "df['Cluster']=labels\n",
    "df['Cluster'].value_counts()\n",
    "\n",
    "# New location\n",
    "new=[(40.7291,73.9963)] # address of NYU Stern\n",
    "model.predict(new)"
   ]
  },
  {
   "cell_type": "code",
   "execution_count": null,
   "id": "3f866227",
   "metadata": {},
   "outputs": [],
   "source": []
  }
 ],
 "metadata": {
  "kernelspec": {
   "display_name": "Python 3 (ipykernel)",
   "language": "python",
   "name": "python3"
  },
  "language_info": {
   "codemirror_mode": {
    "name": "ipython",
    "version": 3
   },
   "file_extension": ".py",
   "mimetype": "text/x-python",
   "name": "python",
   "nbconvert_exporter": "python",
   "pygments_lexer": "ipython3",
   "version": "3.8.13"
  },
  "toc": {
   "base_numbering": 1,
   "nav_menu": {},
   "number_sections": true,
   "sideBar": true,
   "skip_h1_title": false,
   "title_cell": "Table of Contents",
   "title_sidebar": "Contents",
   "toc_cell": false,
   "toc_position": {},
   "toc_section_display": true,
   "toc_window_display": false
  }
 },
 "nbformat": 4,
 "nbformat_minor": 5
}
