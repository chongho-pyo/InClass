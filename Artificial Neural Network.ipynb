{
 "cells": [
  {
   "cell_type": "code",
   "execution_count": 1,
   "id": "5e9124df",
   "metadata": {
    "ExecuteTime": {
     "end_time": "2023-03-08T04:35:32.349303Z",
     "start_time": "2023-03-08T04:35:31.113314Z"
    }
   },
   "outputs": [
    {
     "name": "stderr",
     "output_type": "stream",
     "text": [
      "/Users/chpyo/opt/anaconda3/lib/python3.8/site-packages/scipy/__init__.py:146: UserWarning: A NumPy version >=1.16.5 and <1.23.0 is required for this version of SciPy (detected version 1.24.2\n",
      "  warnings.warn(f\"A NumPy version >={np_minversion} and <{np_maxversion}\"\n"
     ]
    }
   ],
   "source": [
    "### Week 6-1: Artificial Neural Network : Coding example\n",
    "\n",
    "import pandas as pd\n",
    "import numpy as np\n",
    "\n",
    "## Import the data\n",
    "\n",
    "# ALCHL_I: whether the driver is under the influence of alcohol or not\n",
    "# PROFIL_I_R: whether the roadway is levelled or not\n",
    "# SUR_COND: condition of the road surface (1: dry, 2: wet, 3: snow, 4: icy, 9: unknown)\n",
    "# VEH_INVL: number of vehicles involved\n",
    "# MAX_SEV_IR: severity of the accident (0: no injury, 1: non-fatal injury, 2: fatal injury)\n",
    "\n",
    "accident_df = pd.read_csv(\"Accidents.csv\")\n",
    "\n",
    "## Dummifying predictors\n",
    "accident_df[\"ALCHL_I\"] = accident_df[\"ALCHL_I\"]-1\n",
    "accident_df = pd.get_dummies(accident_df, columns = ['SUR_COND','VEH_INVL'])\n",
    "\n",
    "## Construct variables\n",
    "X = accident_df.drop(columns=['MAX_SEV_IR'])\n",
    "y = accident_df['MAX_SEV_IR']\n",
    "\n",
    "## Split the data set\n",
    "from sklearn.model_selection import train_test_split\n",
    "X_train,X_test,y_train,y_test = train_test_split(X,y,test_size=0.33,random_state=5)"
   ]
  },
  {
   "cell_type": "code",
   "execution_count": 2,
   "id": "dcb3fd87",
   "metadata": {
    "ExecuteTime": {
     "end_time": "2023-03-08T04:35:33.466944Z",
     "start_time": "2023-03-08T04:35:32.353289Z"
    }
   },
   "outputs": [
    {
     "name": "stdout",
     "output_type": "stream",
     "text": [
      "        pred:0  pred:1  pred:2\n",
      "true:0     181       0       2\n",
      "true:1       0      95       6\n",
      "true:2      18      20       8\n"
     ]
    }
   ],
   "source": [
    "## Build a model\n",
    "from sklearn.neural_network import MLPClassifier\n",
    "mlp = MLPClassifier(hidden_layer_sizes=(11),max_iter=1000, random_state=0)\n",
    "model = mlp.fit(X_train,y_train)\n",
    "\n",
    "## Make prediction and evaluate the performance\n",
    "y_test_pred = model.predict(X_test)\n",
    "\n",
    "from sklearn.metrics import accuracy_score\n",
    "accuracy_score(y_test, y_test_pred)\n",
    "\n",
    "from sklearn.metrics import confusion_matrix\n",
    "confusion_matrix(y_test, y_test_pred)\n",
    "\n",
    "# Control the order of the label\n",
    "confusion_matrix(y_test, y_test_pred, labels=[0,1,2])\n",
    "\n",
    "# Print the label\n",
    "print(pd.DataFrame(confusion_matrix(y_test, y_test_pred, labels=[0,1,2]), index=['true:0', 'true:1','true:2'], columns=['pred:0', 'pred:1','pred:2']))"
   ]
  },
  {
   "cell_type": "code",
   "execution_count": 3,
   "id": "13cd2ba1",
   "metadata": {
    "ExecuteTime": {
     "end_time": "2023-03-08T04:36:39.353600Z",
     "start_time": "2023-03-08T04:35:33.469351Z"
    }
   },
   "outputs": [
    {
     "name": "stdout",
     "output_type": "stream",
     "text": [
      "2 : 0.859\n",
      "3 : 0.8549999999999999\n",
      "4 : 0.8549999999999999\n",
      "5 : 0.857\n",
      "6 : 0.851\n",
      "7 : 0.861\n",
      "8 : 0.8619999999999999\n",
      "9 : 0.859\n",
      "10 : 0.8530000000000001\n",
      "11 : 0.8649999999999999\n",
      "12 : 0.861\n",
      "13 : 0.861\n",
      "14 : 0.8629999999999999\n",
      "15 : 0.8619999999999999\n",
      "16 : 0.861\n",
      "17 : 0.859\n",
      "18 : 0.861\n",
      "19 : 0.8639999999999999\n",
      "20 : 0.8619999999999999\n"
     ]
    }
   ],
   "source": [
    "## Varying the number of hidden layers\n",
    "mlp2 = MLPClassifier(hidden_layer_sizes=(11,11),max_iter=1000, random_state=0)\n",
    "model2 = mlp2.fit(X_train,y_train)\n",
    "y_test_pred_2 = model2.predict(X_test)\n",
    "accuracy_score(y_test, y_test_pred_2)\n",
    "\n",
    "## Cross-validate with different size of the hidden layer\n",
    "from sklearn.model_selection import cross_val_score\n",
    "for i in range (2,21):    \n",
    "    model3 = MLPClassifier(hidden_layer_sizes=(i),max_iter=1000, random_state=0)\n",
    "    scores = cross_val_score(estimator=model3, X=X, y=y, cv=5)\n",
    "    print(i,':',np.average(scores))"
   ]
  }
 ],
 "metadata": {
  "kernelspec": {
   "display_name": "Python 3 (ipykernel)",
   "language": "python",
   "name": "python3"
  },
  "language_info": {
   "codemirror_mode": {
    "name": "ipython",
    "version": 3
   },
   "file_extension": ".py",
   "mimetype": "text/x-python",
   "name": "python",
   "nbconvert_exporter": "python",
   "pygments_lexer": "ipython3",
   "version": "3.8.13"
  },
  "toc": {
   "base_numbering": 1,
   "nav_menu": {},
   "number_sections": true,
   "sideBar": true,
   "skip_h1_title": false,
   "title_cell": "Table of Contents",
   "title_sidebar": "Contents",
   "toc_cell": false,
   "toc_position": {},
   "toc_section_display": true,
   "toc_window_display": false
  }
 },
 "nbformat": 4,
 "nbformat_minor": 5
}
