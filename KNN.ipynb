{
 "cells": [
  {
   "cell_type": "code",
   "execution_count": 1,
   "id": "5379c392",
   "metadata": {
    "ExecuteTime": {
     "end_time": "2023-03-08T04:35:26.439942Z",
     "start_time": "2023-03-08T04:35:25.118359Z"
    }
   },
   "outputs": [
    {
     "name": "stderr",
     "output_type": "stream",
     "text": [
      "/Users/chpyo/opt/anaconda3/lib/python3.8/site-packages/scipy/__init__.py:146: UserWarning: A NumPy version >=1.16.5 and <1.23.0 is required for this version of SciPy (detected version 1.24.2\n",
      "  warnings.warn(f\"A NumPy version >={np_minversion} and <{np_maxversion}\"\n",
      "/Users/chpyo/opt/anaconda3/lib/python3.8/site-packages/sklearn/base.py:450: UserWarning: X does not have valid feature names, but KNeighborsClassifier was fitted with feature names\n",
      "  warnings.warn(\n"
     ]
    },
    {
     "data": {
      "text/plain": [
       "array(['drug_z'], dtype=object)"
      ]
     },
     "execution_count": 1,
     "metadata": {},
     "output_type": "execute_result"
    }
   ],
   "source": [
    "### Week 4-1: Classification Model Part 2 (K-NN): Coding example\n",
    "\n",
    "## 1. Illustrative example from the slides\n",
    "\n",
    "# Load libraries\n",
    "from sklearn.neighbors import KNeighborsClassifier\n",
    "import numpy as np\n",
    "import pandas as pd\n",
    "\n",
    "# Create a dataframe\n",
    "data = np.array([['drug_z',0.0467,0.2471],['drug_y',0.0533,0.1912],['drug_x',0.0917,0.2794]]) # already normalized\n",
    "column_names = ['Drug', 'Age (MMN)', 'Na/K (MMN)']\n",
    "row_names  = ['A', 'B', 'C']\n",
    "df = pd.DataFrame(data, columns=column_names, index=row_names)\n",
    "\n",
    "# Construct variables\n",
    "X = df.iloc[:,1:3]\n",
    "y = df['Drug']\n",
    "\n",
    "# Build a model\n",
    "knn = KNeighborsClassifier(n_neighbors=1)\n",
    "model1 = knn.fit(X,y)\n",
    "\n",
    "# Make prediction for a new observation (age = 0.05, Na/K = 0.25)\n",
    "new_obs = [[0.05,0.25]]\n",
    "model1.predict(new_obs)"
   ]
  },
  {
   "cell_type": "code",
   "execution_count": 2,
   "id": "66691cc3",
   "metadata": {
    "ExecuteTime": {
     "end_time": "2023-03-08T04:35:26.458541Z",
     "start_time": "2023-03-08T04:35:26.443405Z"
    }
   },
   "outputs": [
    {
     "name": "stderr",
     "output_type": "stream",
     "text": [
      "/var/folders/fj/r58mc2p16y97yyqcvtrpm6240000gn/T/ipykernel_94343/484684903.py:12: FutureWarning: The frame.append method is deprecated and will be removed from pandas in a future version. Use pandas.concat instead.\n",
      "  combined_obs = X.append(new_obs)\n"
     ]
    },
    {
     "data": {
      "text/plain": [
       "array(['Owner'], dtype=object)"
      ]
     },
     "execution_count": 2,
     "metadata": {},
     "output_type": "execute_result"
    }
   ],
   "source": [
    "## 2. RidingMowers.csv and standardization of a new observation\n",
    "\n",
    "# Load data and construct variables\n",
    "# 24 observations with 3 variables: income (in thousands), lot_size (size of the land owned in acres), ownership (owning a mower or not)\n",
    "mower_df = pd.read_csv(\"RidingMowers.csv\")\n",
    "X = mower_df.iloc[:,0:2]\n",
    "y = mower_df['Ownership']\n",
    "\n",
    "# Create a new observation and combine it to the training set\n",
    "new_obs = pd.DataFrame([[24,60,20]], columns=[\"Index\",\"Income\",\"Lot_Size\"])\n",
    "new_obs.set_index(\"Index\", inplace = True) # setting the index variable as the true index\n",
    "combined_obs = X.append(new_obs)\n",
    "\n",
    "# Standardize the dataset\n",
    "from sklearn.preprocessing import StandardScaler\n",
    "standardizer = StandardScaler()\n",
    "combined_obs_std = standardizer.fit_transform(combined_obs)\n",
    "\n",
    "# Split the data after standardization\n",
    "X_std = combined_obs_std[:24,:]\n",
    "new_obs_std = combined_obs_std[24:,:]\n",
    "\n",
    "# Build a model with k = 3 and using euclidean distance function\n",
    "knn2 = KNeighborsClassifier(n_neighbors=3,p=2)\n",
    "model2 = knn2.fit(X_std,y)\n",
    "\n",
    "# Make prediction for a new observation\n",
    "model2.predict(new_obs_std)"
   ]
  },
  {
   "cell_type": "code",
   "execution_count": 3,
   "id": "af97b769",
   "metadata": {
    "ExecuteTime": {
     "end_time": "2023-03-08T04:35:26.479772Z",
     "start_time": "2023-03-08T04:35:26.461388Z"
    }
   },
   "outputs": [
    {
     "name": "stdout",
     "output_type": "stream",
     "text": [
      "0.625\n",
      "0.875\n",
      "0.875\n",
      "0.875\n",
      "0.875\n",
      "0.875\n",
      "0.75\n",
      "0.875\n",
      "0.75\n",
      "0.875\n"
     ]
    }
   ],
   "source": [
    "## 3. RidingMowers.csv and cross validation for choosing k\n",
    "\n",
    "# Construct variables\n",
    "X = mower_df.iloc[:,0:2]\n",
    "y = mower_df['Ownership']\n",
    "\n",
    "# Standardize the predictors\n",
    "standardizer = StandardScaler()\n",
    "X_std = standardizer.fit_transform(X)\n",
    "\n",
    "# Split the data into the training and test sets\n",
    "from sklearn.model_selection import train_test_split\n",
    "X_train, X_test, y_train, y_test = train_test_split(X_std, y, test_size = 0.33, random_state = 5)\n",
    "\n",
    "from sklearn.metrics import accuracy_score\n",
    "for i in range (1,11):\n",
    "    knn3 = KNeighborsClassifier(n_neighbors=i)\n",
    "    model3 = knn3.fit(X_train,y_train)\n",
    "    y_test_pred = model3.predict(X_test)\n",
    "    print(accuracy_score(y_test, y_test_pred))"
   ]
  },
  {
   "cell_type": "code",
   "execution_count": null,
   "id": "faea1d77",
   "metadata": {},
   "outputs": [],
   "source": []
  }
 ],
 "metadata": {
  "kernelspec": {
   "display_name": "Python 3 (ipykernel)",
   "language": "python",
   "name": "python3"
  },
  "language_info": {
   "codemirror_mode": {
    "name": "ipython",
    "version": 3
   },
   "file_extension": ".py",
   "mimetype": "text/x-python",
   "name": "python",
   "nbconvert_exporter": "python",
   "pygments_lexer": "ipython3",
   "version": "3.8.13"
  },
  "toc": {
   "base_numbering": 1,
   "nav_menu": {},
   "number_sections": true,
   "sideBar": true,
   "skip_h1_title": false,
   "title_cell": "Table of Contents",
   "title_sidebar": "Contents",
   "toc_cell": false,
   "toc_position": {},
   "toc_section_display": true,
   "toc_window_display": false
  }
 },
 "nbformat": 4,
 "nbformat_minor": 5
}
