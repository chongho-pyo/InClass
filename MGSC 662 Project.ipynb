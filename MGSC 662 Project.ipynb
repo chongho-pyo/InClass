{
 "cells": [
  {
   "cell_type": "code",
   "execution_count": 1,
   "id": "aeba22ff",
   "metadata": {},
   "outputs": [],
   "source": [
    "from gurobipy import *\n",
    "import gurobipy as gp\n",
    "import numpy as np"
   ]
  },
  {
   "cell_type": "code",
   "execution_count": 2,
   "id": "e81b78a2",
   "metadata": {},
   "outputs": [
    {
     "name": "stdout",
     "output_type": "stream",
     "text": [
      "Restricted license - for non-production use only - expires 2023-10-25\n"
     ]
    }
   ],
   "source": [
    "model = gp.Model(\"Warehouse Inventory Optimization\")"
   ]
  },
  {
   "cell_type": "code",
   "execution_count": 3,
   "id": "350f744d",
   "metadata": {},
   "outputs": [],
   "source": [
    "# Model names\n",
    "names = [\n",
    "    \"iphone11\", \"iphone11pro\", \"iphone11pro_max\", \"iphone12\", \"iphone12pro\", \"iphone12pro_max\",\n",
    "    \"iphone8\", \"iphone8plus\", \"iphoneX\", \"iphoneXS\", \"nova7\", \"P30\", \"P40\", \"S10\", \"S10+\", \"S20\", \"S20+\",\n",
    "    \"S8\", \"S9\"\n",
    "]"
   ]
  },
  {
   "cell_type": "code",
   "execution_count": 4,
   "id": "25ea4af2",
   "metadata": {},
   "outputs": [],
   "source": [
    "# Warehouses\n",
    "W = [\"Calgary\", \"Halifax\", \"Montreal\", \"Toronto\", \"Vancouver\"]"
   ]
  },
  {
   "cell_type": "code",
   "execution_count": 5,
   "id": "d0998772",
   "metadata": {},
   "outputs": [],
   "source": [
    "# Profit\n",
    "P = [92.67, 114.81, 121.94, 101.8, 143.54, 157.05, 41.96, 53.38,\n",
    "     76.63, 85.23, 30.9, 61.64, 81.16, 60.83, 85.46, 111.25, 131.79, 34.2, 53.38]"
   ]
  },
  {
   "cell_type": "code",
   "execution_count": 6,
   "id": "8fc3b4f4",
   "metadata": {},
   "outputs": [],
   "source": [
    "# Weight in grams\n",
    "weight = [194, 188, 226, 162, 187, 226, 148, 202,\n",
    "           174, 177, 180, 165, 175, 157, 175, 163, 186, 155, 163]"
   ]
  },
  {
   "cell_type": "code",
   "execution_count": 7,
   "id": "5c285b7e",
   "metadata": {},
   "outputs": [],
   "source": [
    "# Base overstocking fee\n",
    "over = [5, 3.41, 3.22, 4.33, 5.5]"
   ]
  },
  {
   "cell_type": "code",
   "execution_count": 8,
   "id": "8c61714e",
   "metadata": {},
   "outputs": [],
   "source": [
    "# maintenance fee (fixed)\n",
    "main = [199, 130, 112, 236, 331]"
   ]
  },
  {
   "cell_type": "code",
   "execution_count": 9,
   "id": "50b545d4",
   "metadata": {},
   "outputs": [],
   "source": [
    "# Regular capacity (based on actual dataset)\n",
    "base = [1741, 1740, 1740, 1741, 3481]"
   ]
  },
  {
   "cell_type": "code",
   "execution_count": 10,
   "id": "3443716c",
   "metadata": {},
   "outputs": [],
   "source": [
    "# Safety range (to avoid overstocking)\n",
    "L = [0.03, 0.07, 0.01, 0.04, 0.02]"
   ]
  },
  {
   "cell_type": "code",
   "execution_count": 11,
   "id": "15eea715",
   "metadata": {},
   "outputs": [],
   "source": [
    "# Maximum capacity for each warehouse\n",
    "e = [2000, 2000, 2000, 2000, 3700]"
   ]
  },
  {
   "cell_type": "code",
   "execution_count": 12,
   "id": "a975a87b",
   "metadata": {},
   "outputs": [],
   "source": [
    "# State of nature (based on actual dataset)\n",
    "# The proportion for each model across all warehouses\n",
    "S = [0.088863353, 0.020204922, 0.034855884, 0.028344345, 0.065689936, 0.043091066, 0.033706789,\n",
    "     0.063391746, 0.031887389, 0.117686489, 0.032557694, 0.007660634, 0.007277602, 0.048740783,\n",
    "     0.038494685, 0.035430432, 0.007277602, 0.254811836, 0.040026812]\n"
   ]
  },
  {
   "cell_type": "code",
   "execution_count": 13,
   "id": "b3e02cce",
   "metadata": {},
   "outputs": [],
   "source": [
    "m_len = len(names) # number of models\n",
    "w_len = len(W) # number of warehouses(WHs)\n",
    "\n",
    "# Number of model z in WH j\n",
    "Y = model.addVars(w_len, m_len, lb=0, vtype = GRB.INTEGER, \n",
    "                  name = [n + \"_\" + \"warehouse_\" + w for w in W for n in names])"
   ]
  },
  {
   "cell_type": "code",
   "execution_count": 14,
   "id": "b3d95c24",
   "metadata": {},
   "outputs": [],
   "source": [
    "# Overstocking amount: optimal allocation - regular capacity * (1 + safety range)\n",
    "# If there is no overstocking, the number should be 0.\n",
    "overN = model.addVars(w_len, lb=0, vtype=GRB.CONTINUOUS, name = [\"overstocked amount in warehouse \"+w for w in W])"
   ]
  },
  {
   "cell_type": "code",
   "execution_count": 15,
   "id": "d1e4bda8",
   "metadata": {},
   "outputs": [],
   "source": [
    "# Dynamic overstocking price: related to the overstocking amount and base overstocking fee\n",
    "# But calculate the gap between optimal allocation and regular capacity instead of safety capacity\n",
    "overP = model.addVars(w_len, lb=0, vtype=GRB.CONTINUOUS, name = [\"overstocked price in warehouse \"+w for w in W])"
   ]
  },
  {
   "cell_type": "code",
   "execution_count": 16,
   "id": "772ae781",
   "metadata": {
    "scrolled": true
   },
   "outputs": [],
   "source": [
    "# Raw profit - transfer fee - maintenance fee - overstocking fee\n",
    "model.setObjective(sum(P[z]*Y[j, z] - 0.02*weight[z]*Y[j, z] \n",
    "                       for z in range(m_len) for j in range(w_len))\n",
    "                    - sum(main[j] for j in range(w_len))\n",
    "                    - sum(overN[j] * overP[j] for j in range(w_len))\n",
    "                   ,GRB.MAXIMIZE)"
   ]
  },
  {
   "cell_type": "code",
   "execution_count": 17,
   "id": "18adec0e",
   "metadata": {},
   "outputs": [],
   "source": [
    "# Overstocking amount: optimal allocation - regular capacity * (1 + safety range)\n",
    "for j in range(w_len):\n",
    "    model.addConstr(overN[j] == sum(Y[j, z] for z in range(m_len)) - base[j]*(1+L[j]))"
   ]
  },
  {
   "cell_type": "code",
   "execution_count": 18,
   "id": "238bdb56",
   "metadata": {},
   "outputs": [
    {
     "data": {
      "text/plain": [
       "<gurobi.Constr *Awaiting Model Update*>"
      ]
     },
     "execution_count": 18,
     "metadata": {},
     "output_type": "execute_result"
    }
   ],
   "source": [
    "# Dynamic overstocking price: related to the overstocking amount and base overstocking fee\n",
    "# Using different functions/strategies for different warehouses since the costs of overstocking are different among regions\n",
    "# For example, the costs of overstocking are extremely high in Toronto and Vancouver since higher rents\n",
    "model.addConstr(overP[0] == over[0] + (overN[0] + base[0]*L[0]) / 3)\n",
    "model.addConstr(overP[3] == over[3] * (overN[3] + base[3]*L[3]))\n",
    "model.addConstr(overP[2] == over[2] + (overN[2] + base[2]*L[2]) ** 2 / 10)\n",
    "model.addConstr(overP[1] == over[1] + (overN[1] + base[1]*L[1]) / 10)\n",
    "model.addConstr(overP[4] == over[4]*100 + (overN[4] + base[4]*L[4]))"
   ]
  },
  {
   "cell_type": "code",
   "execution_count": 19,
   "id": "424d6c86",
   "metadata": {},
   "outputs": [],
   "source": [
    "# Setting each model z in WH j within a resonable range (0.9, 1.1) of the state of nature.\n",
    "# The number of models should not deviate that much compared to state of nature.\n",
    "for j in range(w_len):\n",
    "    for z in range(m_len):\n",
    "        model.addConstr(Y[j,z] <= base[j]*(1+L[j]) * S[z] * 1.1)\n",
    "        model.addConstr(Y[j,z] >= base[j]*(1+L[j]) * S[z] * 0.9)"
   ]
  },
  {
   "cell_type": "code",
   "execution_count": 20,
   "id": "6d13cfd5",
   "metadata": {},
   "outputs": [],
   "source": [
    "# Sum of all models in each warehouse should not exceed the maximum capicity\n",
    "for j in range(w_len):\n",
    "    model.addConstr(sum(Y[j, z] for z in range(m_len)) <= e[j])"
   ]
  },
  {
   "cell_type": "code",
   "execution_count": 21,
   "id": "a24c10a9",
   "metadata": {},
   "outputs": [
    {
     "name": "stdout",
     "output_type": "stream",
     "text": [
      "Set parameter NonConvex to value 2\n",
      "Gurobi Optimizer version 9.5.2 build v9.5.2rc0 (win64)\n",
      "Thread count: 14 physical cores, 20 logical processors, using up to 20 threads\n",
      "Optimize a model with 204 rows, 105 columns and 393 nonzeros\n",
      "Model fingerprint: 0xd2309e7e\n",
      "Model has 5 quadratic objective terms\n",
      "Model has 1 quadratic constraint\n",
      "Variable types: 10 continuous, 95 integer (0 binary)\n",
      "Coefficient statistics:\n",
      "  Matrix range     [1e-01, 4e+00]\n",
      "  QMatrix range    [1e-01, 1e-01]\n",
      "  QLMatrix range   [1e+00, 3e+00]\n",
      "  Objective range  [3e+01, 2e+02]\n",
      "  QObjective range [2e+00, 2e+00]\n",
      "  Bounds range     [0e+00, 0e+00]\n",
      "  RHS range        [1e+01, 4e+03]\n",
      "  QRHS range       [3e+01, 3e+01]\n",
      "Presolve removed 203 rows and 84 columns\n",
      "Presolve time: 0.01s\n",
      "Presolved: 6 rows, 22 columns, 31 nonzeros\n",
      "Presolved model has 2 bilinear constraint(s)\n",
      "Variable types: 3 continuous, 19 integer (0 binary)\n",
      "\n",
      "Root relaxation: objective 8.082384e+05, 3 iterations, 0.00 seconds (0.00 work units)\n",
      "\n",
      "    Nodes    |    Current Node    |     Objective Bounds      |     Work\n",
      " Expl Unexpl |  Obj  Depth IntInf | Incumbent    BestBd   Gap | It/Node Time\n",
      "\n",
      "     0     0 808238.406    0    2          - 808238.406      -     -    0s\n",
      "H    0     0                    759578.78000 808238.406  6.41%     -    0s\n",
      "     0     0 807806.903    0    3 759578.780 807806.903  6.35%     -    0s\n",
      "H    0     0                    799503.60000 807806.903  1.04%     -    0s\n",
      "     0     0 807472.975    0    3 799503.600 807472.975  1.00%     -    0s\n",
      "H    0     0                    805860.72000 807472.975  0.20%     -    0s\n",
      "H    0     0                    806043.29000 807472.975  0.18%     -    0s\n",
      "     0     0 807265.190    0    4 806043.290 807265.190  0.15%     -    0s\n",
      "H    0     0                    806945.13000 807265.190  0.04%     -    0s\n",
      "     0     0 807212.325    0    3 806945.130 807212.325  0.03%     -    0s\n",
      "     0     0 807125.379    0    3 806945.130 807125.379  0.02%     -    0s\n",
      "H    0     0                    807054.40000 807125.379  0.01%     -    0s\n",
      "\n",
      "Cutting planes:\n",
      "  RLT: 2\n",
      "\n",
      "Explored 1 nodes (16 simplex iterations) in 0.02 seconds (0.00 work units)\n",
      "Thread count was 20 (of 20 available processors)\n",
      "\n",
      "Solution count 6: 807054 806945 806043 ... 759579\n",
      "\n",
      "Optimal solution found (tolerance 1.00e-04)\n",
      "Best objective 8.070544000000e+05, best bound 8.071253785250e+05, gap 0.0088%\n"
     ]
    }
   ],
   "source": [
    "model.Params.NonConvex = 2\n",
    "model.optimize()"
   ]
  },
  {
   "cell_type": "code",
   "execution_count": 22,
   "id": "9f3fe65a",
   "metadata": {},
   "outputs": [
    {
     "name": "stdout",
     "output_type": "stream",
     "text": [
      "Maximum profit: 807054.4\n",
      "iphone11_warehouse_Calgary = 175\n",
      "iphone11pro_warehouse_Calgary = 39\n",
      "iphone11pro_max_warehouse_Calgary = 68\n",
      "iphone12_warehouse_Calgary = 55\n",
      "iphone12pro_warehouse_Calgary = 129\n",
      "iphone12pro_max_warehouse_Calgary = 84\n",
      "iphone8_warehouse_Calgary = 55\n",
      "iphone8plus_warehouse_Calgary = 109\n",
      "iphoneX_warehouse_Calgary = 62\n",
      "iphoneXS_warehouse_Calgary = 232\n",
      "nova7_warehouse_Calgary = 53\n",
      "P30_warehouse_Calgary = 15\n",
      "P40_warehouse_Calgary = 14\n",
      "S10_warehouse_Calgary = 96\n",
      "S10+_warehouse_Calgary = 75\n",
      "S20_warehouse_Calgary = 69\n",
      "S20+_warehouse_Calgary = 14\n",
      "S8_warehouse_Calgary = 412\n",
      "S9_warehouse_Calgary = 78\n",
      "iphone11_warehouse_Halifax = 181\n",
      "iphone11pro_warehouse_Halifax = 41\n",
      "iphone11pro_max_warehouse_Halifax = 71\n",
      "iphone12_warehouse_Halifax = 58\n",
      "iphone12pro_warehouse_Halifax = 134\n",
      "iphone12pro_max_warehouse_Halifax = 88\n",
      "iphone8_warehouse_Halifax = 69\n",
      "iphone8plus_warehouse_Halifax = 129\n",
      "iphoneX_warehouse_Halifax = 65\n",
      "iphoneXS_warehouse_Halifax = 241\n",
      "nova7_warehouse_Halifax = 55\n",
      "P30_warehouse_Halifax = 15\n",
      "P40_warehouse_Halifax = 14\n",
      "S10_warehouse_Halifax = 99\n",
      "S10+_warehouse_Halifax = 78\n",
      "S20_warehouse_Halifax = 72\n",
      "S20+_warehouse_Halifax = 14\n",
      "S8_warehouse_Halifax = 434\n",
      "S9_warehouse_Halifax = 81\n",
      "iphone11_warehouse_Montreal = 171\n",
      "iphone11pro_warehouse_Montreal = 39\n",
      "iphone11pro_max_warehouse_Montreal = 67\n",
      "iphone12_warehouse_Montreal = 54\n",
      "iphone12pro_warehouse_Montreal = 126\n",
      "iphone12pro_max_warehouse_Montreal = 83\n",
      "iphone8_warehouse_Montreal = 54\n",
      "iphone8plus_warehouse_Montreal = 101\n",
      "iphoneX_warehouse_Montreal = 59\n",
      "iphoneXS_warehouse_Montreal = 227\n",
      "nova7_warehouse_Montreal = 52\n",
      "P30_warehouse_Montreal = 13\n",
      "P40_warehouse_Montreal = 14\n",
      "S10_warehouse_Montreal = 78\n",
      "S10+_warehouse_Montreal = 74\n",
      "S20_warehouse_Montreal = 68\n",
      "S20+_warehouse_Montreal = 14\n",
      "S8_warehouse_Montreal = 404\n",
      "S9_warehouse_Montreal = 64\n",
      "iphone11_warehouse_Toronto = 176\n",
      "iphone11pro_warehouse_Toronto = 40\n",
      "iphone11pro_max_warehouse_Toronto = 69\n",
      "iphone12_warehouse_Toronto = 56\n",
      "iphone12pro_warehouse_Toronto = 130\n",
      "iphone12pro_max_warehouse_Toronto = 85\n",
      "iphone8_warehouse_Toronto = 55\n",
      "iphone8plus_warehouse_Toronto = 104\n",
      "iphoneX_warehouse_Toronto = 59\n",
      "iphoneXS_warehouse_Toronto = 234\n",
      "nova7_warehouse_Toronto = 54\n",
      "P30_warehouse_Toronto = 13\n",
      "P40_warehouse_Toronto = 14\n",
      "S10_warehouse_Toronto = 80\n",
      "S10+_warehouse_Toronto = 76\n",
      "S20_warehouse_Toronto = 70\n",
      "S20+_warehouse_Toronto = 14\n",
      "S8_warehouse_Toronto = 416\n",
      "S9_warehouse_Toronto = 66\n",
      "iphone11_warehouse_Vancouver = 347\n",
      "iphone11pro_warehouse_Vancouver = 78\n",
      "iphone11pro_max_warehouse_Vancouver = 136\n",
      "iphone12_warehouse_Vancouver = 110\n",
      "iphone12pro_warehouse_Vancouver = 256\n",
      "iphone12pro_max_warehouse_Vancouver = 168\n",
      "iphone8_warehouse_Vancouver = 108\n",
      "iphone8plus_warehouse_Vancouver = 203\n",
      "iphoneX_warehouse_Vancouver = 113\n",
      "iphoneXS_warehouse_Vancouver = 459\n",
      "nova7_warehouse_Vancouver = 105\n",
      "P30_warehouse_Vancouver = 25\n",
      "P40_warehouse_Vancouver = 28\n",
      "S10_warehouse_Vancouver = 156\n",
      "S10+_warehouse_Vancouver = 150\n",
      "S20_warehouse_Vancouver = 138\n",
      "S20+_warehouse_Vancouver = 28\n",
      "S8_warehouse_Vancouver = 815\n",
      "S9_warehouse_Vancouver = 128\n",
      "overstocked amount in warehouse Calgary = 41\n",
      "overstocked amount in warehouse Halifax = 77\n",
      "overstocked amount in warehouse Montreal = 5\n",
      "overstocked amount in warehouse Toronto = 0\n",
      "overstocked amount in warehouse Vancouver = 0\n",
      "overstocked price in warehouse Calgary = 36\n",
      "overstocked price in warehouse Halifax = 23\n",
      "overstocked price in warehouse Montreal = 52\n",
      "overstocked price in warehouse Toronto = 303\n",
      "overstocked price in warehouse Vancouver = 620\n"
     ]
    }
   ],
   "source": [
    "# Result demonstration\n",
    "print(\"Maximum profit:\", round(model.objval, 3))\n",
    "total = []\n",
    "for v in model.getVars():\n",
    "    print(v.varName, \"=\", round(v.x))\n",
    "    total.append(round(v.x))"
   ]
  },
  {
   "cell_type": "code",
   "execution_count": 23,
   "id": "87a9f521",
   "metadata": {},
   "outputs": [
    {
     "name": "stdout",
     "output_type": "stream",
     "text": [
      "1834\n"
     ]
    }
   ],
   "source": [
    "# Stocking for each warehouse\n",
    "calgary = total[0:19]\n",
    "print(sum(calgary))"
   ]
  },
  {
   "cell_type": "code",
   "execution_count": 24,
   "id": "bb99fe56",
   "metadata": {},
   "outputs": [
    {
     "name": "stdout",
     "output_type": "stream",
     "text": [
      "1939\n"
     ]
    }
   ],
   "source": [
    "halifax = total[19:38]\n",
    "print(sum(halifax))"
   ]
  },
  {
   "cell_type": "code",
   "execution_count": 25,
   "id": "5afdc8d2",
   "metadata": {},
   "outputs": [
    {
     "name": "stdout",
     "output_type": "stream",
     "text": [
      "1762\n"
     ]
    }
   ],
   "source": [
    "montreal = total[38:57]\n",
    "print(sum(montreal))"
   ]
  },
  {
   "cell_type": "code",
   "execution_count": 26,
   "id": "f8305fe5",
   "metadata": {},
   "outputs": [
    {
     "name": "stdout",
     "output_type": "stream",
     "text": [
      "1811\n"
     ]
    }
   ],
   "source": [
    "toronto = total[57:76]\n",
    "print(sum(toronto))"
   ]
  },
  {
   "cell_type": "code",
   "execution_count": 27,
   "id": "7d540d02",
   "metadata": {},
   "outputs": [
    {
     "name": "stdout",
     "output_type": "stream",
     "text": [
      "3551\n"
     ]
    }
   ],
   "source": [
    "vancouver = total[76:95]\n",
    "print(sum(vancouver))"
   ]
  },
  {
   "cell_type": "code",
   "execution_count": 28,
   "id": "37d1736b",
   "metadata": {},
   "outputs": [
    {
     "name": "stdout",
     "output_type": "stream",
     "text": [
      "[41, 77, 5, 0, 0]\n"
     ]
    }
   ],
   "source": [
    "over_num = total[95:100]\n",
    "print(over_num)"
   ]
  },
  {
   "cell_type": "code",
   "execution_count": 29,
   "id": "1586f853",
   "metadata": {},
   "outputs": [
    {
     "name": "stdout",
     "output_type": "stream",
     "text": [
      "[36, 23, 52, 303, 620]\n"
     ]
    }
   ],
   "source": [
    "over_price = total[100:]\n",
    "print(over_price)"
   ]
  },
  {
   "cell_type": "code",
   "execution_count": 30,
   "id": "747e200a",
   "metadata": {},
   "outputs": [
    {
     "name": "stdout",
     "output_type": "stream",
     "text": [
      "[1050, 237, 411, 333, 775, 508, 341, 646, 358, 1393, 319, 81, 84, 509, 453, 417, 84, 2481, 417]\n"
     ]
    }
   ],
   "source": [
    "# The optimal allocation for each model in all warehouses\n",
    "sum_model = []\n",
    "for i in range(m_len):\n",
    "    sum_model.append(calgary[i]+halifax[i]+montreal[i]+toronto[i]+vancouver[i])\n",
    "print(sum_model)"
   ]
  },
  {
   "cell_type": "code",
   "execution_count": 31,
   "id": "4972a510",
   "metadata": {},
   "outputs": [
    {
     "name": "stdout",
     "output_type": "stream",
     "text": [
      "10897\n"
     ]
    }
   ],
   "source": [
    "# Sum of optimal allocation\n",
    "print(sum(sum_model))"
   ]
  },
  {
   "cell_type": "code",
   "execution_count": 32,
   "id": "ee4b83b9",
   "metadata": {},
   "outputs": [
    {
     "name": "stdout",
     "output_type": "stream",
     "text": [
      "747984.02\n"
     ]
    }
   ],
   "source": [
    "# Actual data gained in our dataset, calculate the project using our objective function without considering overstocking strategy\n",
    "actual_data = [928, 211, 364, 296, 686, 450, 352, 662, 333, 1229, 340,\n",
    "               80, 76, 509, 402, 370, 76, 2661, 418]\n",
    "\n",
    "actual_profit = 0\n",
    "for i in range(m_len):\n",
    "    actual_profit += P[i] * actual_data[i] - 0.02 * weight[i] * actual_data[i]\n",
    "print(actual_profit - sum(main))"
   ]
  },
  {
   "cell_type": "code",
   "execution_count": 33,
   "id": "afeb6e96",
   "metadata": {},
   "outputs": [
    {
     "name": "stdout",
     "output_type": "stream",
     "text": [
      "10443\n"
     ]
    }
   ],
   "source": [
    "# Sum of actual data allocation\n",
    "print(sum(actual_data))"
   ]
  },
  {
   "cell_type": "code",
   "execution_count": 34,
   "id": "e260988c",
   "metadata": {},
   "outputs": [
    {
     "name": "stdout",
     "output_type": "stream",
     "text": [
      "Maximum profit: 807054.4\n"
     ]
    }
   ],
   "source": [
    "# Recall the optimal profit\n",
    "print(\"Maximum profit:\", round(model.objval, 3))"
   ]
  },
  {
   "cell_type": "code",
   "execution_count": 35,
   "id": "8a56dbaa",
   "metadata": {},
   "outputs": [
    {
     "name": "stdout",
     "output_type": "stream",
     "text": [
      "Difference: 57054.38\n"
     ]
    }
   ],
   "source": [
    "# Comparsion between original strategy to overstocking strategy\n",
    "print(\"Difference:\", round(model.objval - actual_profit - sum(main), 3))"
   ]
  }
 ],
 "metadata": {
  "kernelspec": {
   "display_name": "Python 3 (ipykernel)",
   "language": "python",
   "name": "python3"
  },
  "language_info": {
   "codemirror_mode": {
    "name": "ipython",
    "version": 3
   },
   "file_extension": ".py",
   "mimetype": "text/x-python",
   "name": "python",
   "nbconvert_exporter": "python",
   "pygments_lexer": "ipython3",
   "version": "3.8.13"
  },
  "toc": {
   "base_numbering": 1,
   "nav_menu": {},
   "number_sections": true,
   "sideBar": true,
   "skip_h1_title": false,
   "title_cell": "Table of Contents",
   "title_sidebar": "Contents",
   "toc_cell": false,
   "toc_position": {},
   "toc_section_display": true,
   "toc_window_display": false
  },
  "vscode": {
   "interpreter": {
    "hash": "bea42e1b0e07028483ba0ff26b9b4dc4fa162e9d0ccb6b0507d54b9d42d30653"
   }
  }
 },
 "nbformat": 4,
 "nbformat_minor": 5
}
